{
 "cells": [
  {
   "cell_type": "code",
   "execution_count": 52,
   "metadata": {},
   "outputs": [
    {
     "name": "stdout",
     "output_type": "stream",
     "text": [
      "DatasetDict({\n",
      "    train: Dataset({\n",
      "        features: ['translation'],\n",
      "        num_rows: 232825\n",
      "    })\n",
      "    test: Dataset({\n",
      "        features: ['translation'],\n",
      "        num_rows: 8597\n",
      "    })\n",
      "    validation: Dataset({\n",
      "        features: ['translation'],\n",
      "        num_rows: 890\n",
      "    })\n",
      "})\n"
     ]
    }
   ],
   "source": [
    "import torch\n",
    "torch.set_default_device(\"cuda\")\n",
    "import torch.nn as nn\n",
    "\n",
    "from torch.utils.data import Dataset, DataLoader\n",
    "from torch.nn import functional as F\n",
    "\n",
    "from datasets import load_dataset\n",
    "\n",
    "dataset = load_dataset(\"iwslt2017\", \"iwslt2017-en-fr\")\n",
    "print(dataset)"
   ]
  },
  {
   "cell_type": "code",
   "execution_count": 53,
   "metadata": {},
   "outputs": [],
   "source": [
    "train_data = dataset['train']\n",
    "val_data = dataset['validation']\n",
    "test_data = dataset['test']"
   ]
  },
  {
   "cell_type": "code",
   "execution_count": 54,
   "metadata": {},
   "outputs": [
    {
     "data": {
      "text/plain": [
       "{'translation': {'en': \"Thank you so much, Chris. And it's truly a great honor to have the opportunity to come to this stage twice; I'm extremely grateful.\",\n",
       "  'fr': \"Merci beaucoup, Chris. C'est vraiment un honneur de pouvoir venir sur cette scène une deuxième fois. Je suis très reconnaissant.\"}}"
      ]
     },
     "execution_count": 54,
     "metadata": {},
     "output_type": "execute_result"
    }
   ],
   "source": [
    "train_data[0]"
   ]
  },
  {
   "cell_type": "code",
   "execution_count": 55,
   "metadata": {},
   "outputs": [],
   "source": [
    "from tqdm import tqdm\n",
    "\n",
    "# Function to get English and French sentences from the dataset\n",
    "def get_en_fr_sentences(data):\n",
    "    english = [item['en'] for item in tqdm(data['translation'])]\n",
    "    french = [item['fr'] for item in tqdm(data['translation'])]\n",
    "    return english, french"
   ]
  },
  {
   "cell_type": "code",
   "execution_count": 56,
   "metadata": {},
   "outputs": [
    {
     "name": "stderr",
     "output_type": "stream",
     "text": [
      "100%|██████████| 232825/232825 [00:00<00:00, 7345766.32it/s]\n",
      "100%|██████████| 232825/232825 [00:00<00:00, 5981091.74it/s]\n",
      "100%|██████████| 890/890 [00:00<00:00, 1317194.98it/s]\n",
      "100%|██████████| 890/890 [00:00<00:00, 158868.39it/s]\n",
      "100%|██████████| 8597/8597 [00:00<00:00, 868480.25it/s]\n",
      "100%|██████████| 8597/8597 [00:00<?, ?it/s]\n"
     ]
    }
   ],
   "source": [
    "train_en, train_fr = get_en_fr_sentences(train_data)\n",
    "\n",
    "# just for testing\n",
    "train_en = train_en[:10000]\n",
    "train_fr = train_fr[:10000]\n",
    "\n",
    "val_en, val_fr = get_en_fr_sentences(val_data)\n",
    "\n",
    "# just for testing\n",
    "val_en = val_en[:200]\n",
    "val_fr = val_fr[:200]\n",
    "\n",
    "test_en, test_fr = get_en_fr_sentences(test_data)\n",
    "\n",
    "# just for testing\n",
    "test_en = test_en[:1000]\n",
    "test_fr = test_fr[:1000]"
   ]
  },
  {
   "cell_type": "code",
   "execution_count": 57,
   "metadata": {},
   "outputs": [
    {
     "data": {
      "text/plain": [
       "\"Thank you so much, Chris. And it's truly a great honor to have the opportunity to come to this stage twice; I'm extremely grateful.\""
      ]
     },
     "execution_count": 57,
     "metadata": {},
     "output_type": "execute_result"
    }
   ],
   "source": [
    "train_en[0]"
   ]
  },
  {
   "cell_type": "code",
   "execution_count": 58,
   "metadata": {},
   "outputs": [
    {
     "data": {
      "text/plain": [
       "\"Merci beaucoup, Chris. C'est vraiment un honneur de pouvoir venir sur cette scène une deuxième fois. Je suis très reconnaissant.\""
      ]
     },
     "execution_count": 58,
     "metadata": {},
     "output_type": "execute_result"
    }
   ],
   "source": [
    "train_fr[0]"
   ]
  },
  {
   "cell_type": "code",
   "execution_count": 59,
   "metadata": {},
   "outputs": [],
   "source": [
    "from transformers import BertTokenizer\n",
    "\n",
    "tokenizer = BertTokenizer.from_pretrained(\"bert-base-uncased\")\n",
    "\n",
    "# Function to tokenize sentences\n",
    "def tokenize(sentences, tokenizer):\n",
    "    tokenized_sentences = tokenizer(\n",
    "        sentences,\n",
    "        truncation=True,\n",
    "        padding=True,\n",
    "        add_special_tokens=True,\n",
    "        return_tensors=\"pt\",\n",
    "        max_length=512\n",
    "    )\n",
    "    return tokenized_sentences"
   ]
  },
  {
   "cell_type": "code",
   "execution_count": 60,
   "metadata": {},
   "outputs": [],
   "source": [
    "tokenized_train_en = tokenize(train_en, tokenizer)\n",
    "tokenized_train_fr = tokenize(train_fr, tokenizer)\n",
    "\n",
    "tokenized_val_en = tokenize(val_en, tokenizer)\n",
    "tokenized_val_fr = tokenize(val_fr, tokenizer)\n",
    "\n",
    "tokenized_test_en = tokenize(test_en, tokenizer)\n",
    "tokenized_test_fr = tokenize(test_fr, tokenizer)"
   ]
  },
  {
   "cell_type": "code",
   "execution_count": 61,
   "metadata": {},
   "outputs": [
    {
     "data": {
      "text/plain": [
       "dict_keys(['input_ids', 'token_type_ids', 'attention_mask'])"
      ]
     },
     "execution_count": 61,
     "metadata": {},
     "output_type": "execute_result"
    }
   ],
   "source": [
    "tokenized_train_en.keys()"
   ]
  },
  {
   "cell_type": "code",
   "execution_count": 62,
   "metadata": {},
   "outputs": [],
   "source": [
    "class TranslationDataset(Dataset):\n",
    "    def __init__(self, tokenized_source, tokenized_target):\n",
    "        self.source_tokens = tokenized_source[\"input_ids\"]\n",
    "        self.target_tokens = tokenized_target[\"input_ids\"]\n",
    "\n",
    "    def __len__(self):\n",
    "        return len(self.source_tokens)\n",
    "\n",
    "    def __getitem__(self, index):\n",
    "        source_sequence = self.source_tokens[index]\n",
    "        target_sequence = self.target_tokens[index]\n",
    "\n",
    "        return {\n",
    "            \"input_ids\": source_sequence,\n",
    "            \"labels\": target_sequence,\n",
    "        }\n",
    "\n",
    "# Create datasets\n",
    "train_dataset = TranslationDataset(tokenized_train_en, tokenized_train_fr)\n",
    "val_dataset = TranslationDataset(tokenized_val_en, tokenized_val_fr)\n",
    "test_dataset = TranslationDataset(tokenized_test_en, tokenized_test_fr)"
   ]
  },
  {
   "cell_type": "code",
   "execution_count": 63,
   "metadata": {},
   "outputs": [
    {
     "name": "stdout",
     "output_type": "stream",
     "text": [
      "Encoder(\n",
      "  (dropout_module): Dropout(p=0.0, inplace=False)\n",
      "  (embed_tokens): TextEmbedding(30000, 64)\n",
      "  (embed_positions): PositionalEmbedding(512, 64)\n",
      "  (output_projection): Linear(in_features=64, out_features=30000, bias=False)\n",
      "  (layers): ModuleList(\n",
      "    (0-7): 8 x EncoderLayer(\n",
      "      (self_attn): MultiheadAttention(\n",
      "        (k_proj): Linear(in_features=64, out_features=64, bias=True)\n",
      "        (v_proj): Linear(in_features=64, out_features=64, bias=True)\n",
      "        (q_proj): Linear(in_features=64, out_features=64, bias=True)\n",
      "        (out_proj): Linear(in_features=64, out_features=64, bias=True)\n",
      "        (inner_attn_ln): LayerNorm((64,), eps=1e-05, elementwise_affine=True)\n",
      "        (dropout_module): Dropout(p=0.0, inplace=False)\n",
      "      )\n",
      "      (self_attn_layer_norm): LayerNorm((64,), eps=1e-05, elementwise_affine=True)\n",
      "      (dropout_module): Dropout(p=0.0, inplace=False)\n",
      "      (ffn): FeedForwardNetwork(\n",
      "        (activation_dropout_module): Dropout(p=0.0, inplace=False)\n",
      "        (dropout_module): Dropout(p=0.0, inplace=False)\n",
      "        (fc1): Linear(in_features=64, out_features=256, bias=True)\n",
      "        (fc2): Linear(in_features=256, out_features=64, bias=True)\n",
      "        (ffn_layernorm): LayerNorm((256,), eps=1e-05, elementwise_affine=True)\n",
      "      )\n",
      "      (final_layer_norm): LayerNorm((64,), eps=1e-05, elementwise_affine=True)\n",
      "    )\n",
      "  )\n",
      "  (layer_norm): LayerNorm((64,), eps=1e-05, elementwise_affine=True)\n",
      ")\n"
     ]
    }
   ],
   "source": [
    "from torchscale.architecture.config import EncoderConfig\n",
    "from torchscale.architecture.encoder import Encoder\n",
    "from torchscale.component.embedding import PositionalEmbedding, TextEmbedding\n",
    "\n",
    "enc_config = EncoderConfig(\n",
    "    encoder_embed_dim=64,\n",
    "    encoder_attention_heads=8,\n",
    "    encoder_ffn_embed_dim=256,\n",
    "    encoder_layers=8,\n",
    "    max_source_positions=512,\n",
    "    vocab_size=30000\n",
    ")\n",
    "encoder = Encoder(\n",
    "    enc_config,\n",
    "    embed_tokens=TextEmbedding(30000, enc_config.encoder_embed_dim),\n",
    "    embed_positions=PositionalEmbedding(enc_config.max_source_positions, enc_config.encoder_embed_dim)\n",
    ")\n",
    "\n",
    "# Print model arch\n",
    "print(encoder)"
   ]
  },
  {
   "cell_type": "code",
   "execution_count": 64,
   "metadata": {},
   "outputs": [
    {
     "name": "stdout",
     "output_type": "stream",
     "text": [
      "RetNetDecoder(\n",
      "  (dropout_module): Dropout(p=0.0, inplace=False)\n",
      "  (embed_tokens): TextEmbedding(30000, 64)\n",
      "  (output_projection): Linear(in_features=64, out_features=30000, bias=False)\n",
      "  (layers): ModuleList(\n",
      "    (0-7): 8 x DecoderLayer(\n",
      "      (dropout_module): Dropout(p=0.0, inplace=False)\n",
      "      (retention): MultiScaleRetention(\n",
      "        (q_proj): Linear(in_features=64, out_features=64, bias=False)\n",
      "        (k_proj): Linear(in_features=64, out_features=64, bias=False)\n",
      "        (v_proj): Linear(in_features=64, out_features=128, bias=False)\n",
      "        (g_proj): Linear(in_features=64, out_features=128, bias=False)\n",
      "        (out_proj): Linear(in_features=128, out_features=64, bias=False)\n",
      "        (group_norm): RMSNorm()\n",
      "      )\n",
      "      (retention_layer_norm): RMSNorm()\n",
      "      (ffn): GLU(\n",
      "        (activation_dropout_module): Dropout(p=0.0, inplace=False)\n",
      "        (dropout_module): Dropout(p=0.0, inplace=False)\n",
      "        (fc1): Linear(in_features=64, out_features=256, bias=False)\n",
      "        (fc2): Linear(in_features=256, out_features=64, bias=False)\n",
      "        (gate): Linear(in_features=64, out_features=256, bias=False)\n",
      "      )\n",
      "      (final_layer_norm): RMSNorm()\n",
      "    )\n",
      "  )\n",
      "  (layer_norm): RMSNorm()\n",
      "  (retnet_rel_pos): RetNetRelPos()\n",
      ")\n"
     ]
    }
   ],
   "source": [
    "from torchscale.architecture.config import RetNetConfig\n",
    "from torchscale.architecture.retnet import RetNetDecoder\n",
    "\n",
    "ret_config = RetNetConfig(\n",
    "    decoder_embed_dim=64,\n",
    "    decoder_value_embed_dim=128,\n",
    "    decoder_retention_heads=4,\n",
    "    decoder_ffn_embed_dim=256,\n",
    "    decoder_layers=8,\n",
    "    max_target_positions=512,\n",
    "    vocab_size=30000\n",
    ")\n",
    "retnet = RetNetDecoder(\n",
    "    ret_config,\n",
    "    embed_tokens=TextEmbedding(30000, ret_config.decoder_embed_dim),\n",
    ")\n",
    "\n",
    "# Print retnet arch\n",
    "print(retnet)"
   ]
  },
  {
   "cell_type": "code",
   "execution_count": 65,
   "metadata": {},
   "outputs": [],
   "source": [
    "# Define optimizers for the encoder and decoder\n",
    "encoder_optimizer = torch.optim.AdamW(encoder.parameters(), lr=1e-5)\n",
    "retnet_optimizer = torch.optim.AdamW(retnet.parameters(), lr=1e-5)"
   ]
  },
  {
   "cell_type": "code",
   "execution_count": 66,
   "metadata": {},
   "outputs": [],
   "source": [
    "batch_size = 4\n",
    "\n",
    "# Create data loaders for training, validation, and testing\n",
    "train_loader = DataLoader(train_dataset, batch_size=batch_size, shuffle=False)\n",
    "val_loader = DataLoader(val_dataset, batch_size=batch_size, shuffle=False)\n",
    "test_loader = DataLoader(test_dataset, batch_size=batch_size, shuffle=False)"
   ]
  },
  {
   "cell_type": "code",
   "execution_count": 67,
   "metadata": {},
   "outputs": [],
   "source": [
    "criterion = nn.CrossEntropyLoss()"
   ]
  },
  {
   "cell_type": "code",
   "execution_count": 68,
   "metadata": {},
   "outputs": [
    {
     "name": "stderr",
     "output_type": "stream",
     "text": [
      "100%|██████████| 2500/2500 [02:15<00:00, 18.50it/s]\n"
     ]
    },
    {
     "name": "stdout",
     "output_type": "stream",
     "text": [
      "Epoch 1, Training loss: 3.053144137477875\n"
     ]
    },
    {
     "name": "stderr",
     "output_type": "stream",
     "text": [
      "100%|██████████| 50/50 [00:01<00:00, 40.87it/s]\n"
     ]
    },
    {
     "name": "stdout",
     "output_type": "stream",
     "text": [
      "Epoch 1, Validation Loss: 1.9275400519371033\n"
     ]
    },
    {
     "name": "stderr",
     "output_type": "stream",
     "text": [
      "100%|██████████| 2500/2500 [02:18<00:00, 18.11it/s]\n"
     ]
    },
    {
     "name": "stdout",
     "output_type": "stream",
     "text": [
      "Epoch 2, Training loss: 1.2831998250961303\n"
     ]
    },
    {
     "name": "stderr",
     "output_type": "stream",
     "text": [
      "100%|██████████| 50/50 [00:01<00:00, 39.52it/s]\n"
     ]
    },
    {
     "name": "stdout",
     "output_type": "stream",
     "text": [
      "Epoch 2, Validation Loss: 1.0274717092514039\n"
     ]
    },
    {
     "name": "stderr",
     "output_type": "stream",
     "text": [
      "100%|██████████| 2500/2500 [02:16<00:00, 18.31it/s]\n"
     ]
    },
    {
     "name": "stdout",
     "output_type": "stream",
     "text": [
      "Epoch 3, Training loss: 0.7197414883077144\n"
     ]
    },
    {
     "name": "stderr",
     "output_type": "stream",
     "text": [
      "100%|██████████| 50/50 [00:01<00:00, 40.98it/s]\n"
     ]
    },
    {
     "name": "stdout",
     "output_type": "stream",
     "text": [
      "Epoch 3, Validation Loss: 0.6710742244124412\n"
     ]
    },
    {
     "name": "stderr",
     "output_type": "stream",
     "text": [
      "100%|██████████| 2500/2500 [02:15<00:00, 18.47it/s]\n"
     ]
    },
    {
     "name": "stdout",
     "output_type": "stream",
     "text": [
      "Epoch 4, Training loss: 0.4694631684362888\n"
     ]
    },
    {
     "name": "stderr",
     "output_type": "stream",
     "text": [
      "100%|██████████| 50/50 [00:01<00:00, 41.83it/s]\n"
     ]
    },
    {
     "name": "stdout",
     "output_type": "stream",
     "text": [
      "Epoch 4, Validation Loss: 0.48189415216445924\n"
     ]
    },
    {
     "name": "stderr",
     "output_type": "stream",
     "text": [
      "100%|██████████| 2500/2500 [02:16<00:00, 18.30it/s]\n"
     ]
    },
    {
     "name": "stdout",
     "output_type": "stream",
     "text": [
      "Epoch 5, Training loss: 0.3307826317638159\n"
     ]
    },
    {
     "name": "stderr",
     "output_type": "stream",
     "text": [
      "100%|██████████| 50/50 [00:01<00:00, 44.04it/s]\n"
     ]
    },
    {
     "name": "stdout",
     "output_type": "stream",
     "text": [
      "Epoch 5, Validation Loss: 0.3675372187793255\n"
     ]
    },
    {
     "name": "stderr",
     "output_type": "stream",
     "text": [
      "100%|██████████| 2500/2500 [02:16<00:00, 18.28it/s]\n"
     ]
    },
    {
     "name": "stdout",
     "output_type": "stream",
     "text": [
      "Epoch 6, Training loss: 0.24581361654251813\n"
     ]
    },
    {
     "name": "stderr",
     "output_type": "stream",
     "text": [
      "100%|██████████| 50/50 [00:01<00:00, 39.73it/s]\n"
     ]
    },
    {
     "name": "stdout",
     "output_type": "stream",
     "text": [
      "Epoch 6, Validation Loss: 0.2924006718397141\n"
     ]
    },
    {
     "name": "stderr",
     "output_type": "stream",
     "text": [
      "100%|██████████| 2500/2500 [02:16<00:00, 18.37it/s]\n"
     ]
    },
    {
     "name": "stdout",
     "output_type": "stream",
     "text": [
      "Epoch 7, Training loss: 0.19017170282900334\n"
     ]
    },
    {
     "name": "stderr",
     "output_type": "stream",
     "text": [
      "100%|██████████| 50/50 [00:01<00:00, 41.74it/s]\n"
     ]
    },
    {
     "name": "stdout",
     "output_type": "stream",
     "text": [
      "Epoch 7, Validation Loss: 0.2401502275466919\n"
     ]
    },
    {
     "name": "stderr",
     "output_type": "stream",
     "text": [
      "100%|██████████| 2500/2500 [02:19<00:00, 17.97it/s]\n"
     ]
    },
    {
     "name": "stdout",
     "output_type": "stream",
     "text": [
      "Epoch 8, Training loss: 0.1516255485147238\n"
     ]
    },
    {
     "name": "stderr",
     "output_type": "stream",
     "text": [
      "100%|██████████| 50/50 [00:01<00:00, 42.85it/s]\n"
     ]
    },
    {
     "name": "stdout",
     "output_type": "stream",
     "text": [
      "Epoch 8, Validation Loss: 0.20236011482775212\n"
     ]
    },
    {
     "name": "stderr",
     "output_type": "stream",
     "text": [
      "100%|██████████| 2500/2500 [02:18<00:00, 18.11it/s]\n"
     ]
    },
    {
     "name": "stdout",
     "output_type": "stream",
     "text": [
      "Epoch 9, Training loss: 0.12369414857886732\n"
     ]
    },
    {
     "name": "stderr",
     "output_type": "stream",
     "text": [
      "100%|██████████| 50/50 [00:01<00:00, 38.32it/s]\n"
     ]
    },
    {
     "name": "stdout",
     "output_type": "stream",
     "text": [
      "Epoch 9, Validation Loss: 0.1739048755168915\n"
     ]
    },
    {
     "name": "stderr",
     "output_type": "stream",
     "text": [
      "100%|██████████| 2500/2500 [02:15<00:00, 18.48it/s]\n"
     ]
    },
    {
     "name": "stdout",
     "output_type": "stream",
     "text": [
      "Epoch 10, Training loss: 0.10271770230270923\n"
     ]
    },
    {
     "name": "stderr",
     "output_type": "stream",
     "text": [
      "100%|██████████| 50/50 [00:01<00:00, 41.26it/s]"
     ]
    },
    {
     "name": "stdout",
     "output_type": "stream",
     "text": [
      "Epoch 10, Validation Loss: 0.1518898917734623\n"
     ]
    },
    {
     "name": "stderr",
     "output_type": "stream",
     "text": [
      "\n"
     ]
    }
   ],
   "source": [
    "num_epochs = 10\n",
    "\n",
    "train_losses = []\n",
    "val_losses = []\n",
    "\n",
    "for epoch in range(num_epochs):\n",
    "    encoder.train()\n",
    "    retnet.train()\n",
    "\n",
    "    total_loss = 0\n",
    "\n",
    "    for batch in tqdm(train_loader):\n",
    "        encoder_optimizer.zero_grad()\n",
    "        retnet_optimizer.zero_grad()\n",
    "\n",
    "        src_tokens = batch['input_ids']\n",
    "        prev_output_tokens = batch['labels']\n",
    "        target_sequence = batch['labels']\n",
    "\n",
    "        encoder_output = encoder(src_tokens)\n",
    "        retnet_output, _ = retnet(prev_output_tokens)\n",
    "\n",
    "        loss = criterion(retnet_output.view(-1, ret_config.vocab_size), target_sequence.view(-1))\n",
    "\n",
    "        loss.backward()\n",
    "\n",
    "        encoder_optimizer.step()\n",
    "        retnet_optimizer.step()\n",
    "\n",
    "        total_loss += loss.item()\n",
    "    \n",
    "    average_loss = total_loss / len(train_loader)\n",
    "    train_losses.append(average_loss)\n",
    "\n",
    "    print(f\"Epoch {epoch + 1}, Training loss: {average_loss}\")\n",
    "\n",
    "    encoder.eval()\n",
    "    retnet.eval()\n",
    "\n",
    "    with torch.no_grad():\n",
    "        total_val_loss = 0\n",
    "\n",
    "        for val_batch in tqdm(val_loader):\n",
    "\n",
    "            val_src_tokens = val_batch[\"input_ids\"]\n",
    "            val_prev_output_tokens = val_batch[\"labels\"]\n",
    "\n",
    "            encoder_output = encoder(val_src_tokens)\n",
    "            retnet_output, _ = retnet(val_prev_output_tokens)\n",
    "\n",
    "            val_loss = criterion(retnet_output.view(-1, ret_config.vocab_size), val_batch['labels'].view(-1))\n",
    "            total_val_loss += val_loss.item()\n",
    "        \n",
    "        average_val_loss = total_val_loss / len(val_loader)\n",
    "        val_losses.append(average_val_loss)\n",
    "\n",
    "        print(f\"Epoch {epoch + 1}, Validation Loss: {average_val_loss}\")"
   ]
  },
  {
   "cell_type": "code",
   "execution_count": 69,
   "metadata": {},
   "outputs": [
    {
     "name": "stderr",
     "output_type": "stream",
     "text": [
      "100%|██████████| 250/250 [00:06<00:00, 41.39it/s]"
     ]
    },
    {
     "name": "stdout",
     "output_type": "stream",
     "text": [
      "Final Test loss: 0.1142873937562108\n"
     ]
    },
    {
     "name": "stderr",
     "output_type": "stream",
     "text": [
      "\n"
     ]
    }
   ],
   "source": [
    "encoder.eval()\n",
    "retnet.eval()\n",
    "\n",
    "with torch.no_grad():\n",
    "    total_test_loss = 0\n",
    "\n",
    "    for test_batch in tqdm(test_loader):\n",
    "\n",
    "        test_src_tokens = test_batch[\"input_ids\"]\n",
    "        test_prev_output_tokens = test_batch[\"labels\"]\n",
    "\n",
    "        encoder_output = encoder(test_src_tokens)\n",
    "        retnet_output, _ = retnet(test_prev_output_tokens)\n",
    "\n",
    "        val_loss = criterion(retnet_output.view(-1, ret_config.vocab_size), test_batch['labels'].view(-1))\n",
    "        total_test_loss += val_loss.item()\n",
    "    \n",
    "    average_test_loss = total_test_loss / len(test_loader)\n",
    "\n",
    "    print(f\"Final Test loss: {average_test_loss}\")"
   ]
  },
  {
   "cell_type": "code",
   "execution_count": 70,
   "metadata": {},
   "outputs": [
    {
     "name": "stderr",
     "output_type": "stream",
     "text": [
      "100%|██████████| 2500/2500 [01:26<00:00, 28.76it/s]\n"
     ]
    },
    {
     "name": "stdout",
     "output_type": "stream",
     "text": [
      "BLEU score: 0.3406278192996979\n"
     ]
    }
   ],
   "source": [
    "from torchtext.data.metrics import bleu_score\n",
    "\n",
    "encoder.eval()\n",
    "retnet.eval()\n",
    "\n",
    "candidate_corpus = []\n",
    "reference_corpus = []\n",
    "\n",
    "with torch.no_grad():\n",
    "    for batch in tqdm(train_loader):\n",
    "        src_tokens = batch['input_ids']\n",
    "        prev_output_tokens = batch['labels']\n",
    "\n",
    "        encoder_output = encoder(src_tokens)\n",
    "        retnet_output, _ = retnet(prev_output_tokens)\n",
    "\n",
    "        predictions = torch.argmax(retnet_output, dim=-1)\n",
    "\n",
    "        # Convert token IDs to strings\n",
    "        candidates = [tokenizer.decode(pred, skip_special_tokens=True) for pred in predictions.cpu().numpy().tolist()]\n",
    "        candidate_corpus.extend(candidates)\n",
    "\n",
    "        references = [tokenizer.decode(seq, skip_special_tokens=True).split() for seq in batch['labels'].cpu().numpy().tolist()]\n",
    "        reference_corpus.extend(references)\n",
    "\n",
    "candidate_corpus = [str(candidate) for candidate in candidate_corpus]\n",
    "\n",
    "bleu = bleu_score(candidate_corpus, reference_corpus)\n",
    "print(f\"BLEU score: {bleu}\")"
   ]
  },
  {
   "cell_type": "code",
   "execution_count": 71,
   "metadata": {},
   "outputs": [
    {
     "data": {
      "image/png": "[encoded data removed]",
      "text/plain": [
       "<Figure size 640x480 with 1 Axes>"
      ]
     },
     "metadata": {},
     "output_type": "display_data"
    }
   ],
   "source": [
    "import matplotlib.pyplot as plt \n",
    "%matplotlib inline \n",
    "\n",
    "epochs = range(1, 11)\n",
    "\n",
    "plt.plot(epochs, train_losses, label='Training Loss')\n",
    "plt.plot(epochs, val_losses, label='Validation Loss')\n",
    "\n",
    "plt.title('Training and Validation Loss')\n",
    "plt.xlabel('Epochs')\n",
    "plt.ylabel('Loss')\n",
    "plt.legend()\n",
    "\n",
    "plt.show()"
   ]
  },
  {
   "cell_type": "code",
   "execution_count": null,
   "metadata": {},
   "outputs": [],
   "source": []
  }
 ],
 "metadata": {
  "kernelspec": {
   "display_name": "Python 3",
   "language": "python",
   "name": "python3"
  },
  "language_info": {
   "codemirror_mode": {
    "name": "ipython",
    "version": 3
   },
   "file_extension": ".py",
   "mimetype": "text/x-python",
   "name": "python",
   "nbconvert_exporter": "python",
   "pygments_lexer": "ipython3",
   "version": "3.9.13"
  }
 },
 "nbformat": 4,
 "nbformat_minor": 2
}

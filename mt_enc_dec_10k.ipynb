{
 "cells": [
  {
   "cell_type": "code",
   "execution_count": 31,
   "metadata": {},
   "outputs": [
    {
     "name": "stdout",
     "output_type": "stream",
     "text": [
      "DatasetDict({\n",
      "    train: Dataset({\n",
      "        features: ['translation'],\n",
      "        num_rows: 232825\n",
      "    })\n",
      "    test: Dataset({\n",
      "        features: ['translation'],\n",
      "        num_rows: 8597\n",
      "    })\n",
      "    validation: Dataset({\n",
      "        features: ['translation'],\n",
      "        num_rows: 890\n",
      "    })\n",
      "})\n"
     ]
    }
   ],
   "source": [
    "import torch\n",
    "torch.set_default_device(\"cuda\")\n",
    "import torch.nn as nn\n",
    "\n",
    "from torch.utils.data import Dataset, DataLoader\n",
    "from torch.nn import functional as F\n",
    "\n",
    "from datasets import load_dataset\n",
    "\n",
    "dataset = load_dataset(\"iwslt2017\", \"iwslt2017-en-fr\")\n",
    "print(dataset)"
   ]
  },
  {
   "cell_type": "code",
   "execution_count": 32,
   "metadata": {},
   "outputs": [],
   "source": [
    "train_data = dataset['train']\n",
    "val_data = dataset['validation']\n",
    "test_data = dataset['test']"
   ]
  },
  {
   "cell_type": "code",
   "execution_count": 33,
   "metadata": {},
   "outputs": [],
   "source": [
    "from tqdm import tqdm\n",
    "\n",
    "# Function to get English and French sentences from the dataset\n",
    "def get_en_fr_sentences(data):\n",
    "    english = [item['en'] for item in tqdm(data['translation'])]\n",
    "    french = [item['fr'] for item in tqdm(data['translation'])]\n",
    "    return english, french"
   ]
  },
  {
   "cell_type": "code",
   "execution_count": 34,
   "metadata": {},
   "outputs": [
    {
     "name": "stderr",
     "output_type": "stream",
     "text": [
      "100%|██████████| 232825/232825 [00:00<00:00, 7183496.11it/s]\n",
      "100%|██████████| 232825/232825 [00:00<00:00, 5609648.49it/s]\n",
      "100%|██████████| 890/890 [00:00<?, ?it/s]\n",
      "100%|██████████| 890/890 [00:00<?, ?it/s]\n",
      "100%|██████████| 8597/8597 [00:00<00:00, 6749987.17it/s]\n",
      "100%|██████████| 8597/8597 [00:00<00:00, 1546775.54it/s]\n"
     ]
    }
   ],
   "source": [
    "train_en, train_fr = get_en_fr_sentences(train_data)\n",
    "\n",
    "# just for testing\n",
    "train_en = train_en[:10000]\n",
    "train_fr = train_fr[:10000]\n",
    "\n",
    "val_en, val_fr = get_en_fr_sentences(val_data)\n",
    "\n",
    "# just for testing\n",
    "val_en = val_en[:200]\n",
    "val_fr = val_fr[:200]\n",
    "\n",
    "test_en, test_fr = get_en_fr_sentences(test_data)\n",
    "\n",
    "# just for testing\n",
    "test_en = test_en[:1000]\n",
    "test_fr = test_fr[:1000]"
   ]
  },
  {
   "cell_type": "code",
   "execution_count": 35,
   "metadata": {},
   "outputs": [],
   "source": [
    "from transformers import BertTokenizer\n",
    "\n",
    "tokenizer = BertTokenizer.from_pretrained(\"bert-base-uncased\")\n",
    "\n",
    "# Function to tokenize sentences\n",
    "def tokenize(sentences, tokenizer):\n",
    "    tokenized_sentences = tokenizer(\n",
    "        sentences,\n",
    "        truncation=True,\n",
    "        padding=True,\n",
    "        add_special_tokens=True,\n",
    "        return_tensors=\"pt\",\n",
    "        max_length=512\n",
    "    )\n",
    "    return tokenized_sentences"
   ]
  },
  {
   "cell_type": "code",
   "execution_count": 36,
   "metadata": {},
   "outputs": [],
   "source": [
    "tokenized_train_en = tokenize(train_en, tokenizer)\n",
    "tokenized_train_fr = tokenize(train_fr, tokenizer)\n",
    "\n",
    "tokenized_val_en = tokenize(val_en, tokenizer)\n",
    "tokenized_val_fr = tokenize(val_fr, tokenizer)\n",
    "\n",
    "tokenized_test_en = tokenize(test_en, tokenizer)\n",
    "tokenized_test_fr = tokenize(test_fr, tokenizer)"
   ]
  },
  {
   "cell_type": "code",
   "execution_count": 37,
   "metadata": {},
   "outputs": [],
   "source": [
    "class TranslationDataset(Dataset):\n",
    "    def __init__(self, tokenized_source, tokenized_target):\n",
    "        self.source_tokens = tokenized_source[\"input_ids\"]\n",
    "        self.target_tokens = tokenized_target[\"input_ids\"]\n",
    "\n",
    "    def __len__(self):\n",
    "        return len(self.source_tokens)\n",
    "\n",
    "    def __getitem__(self, index):\n",
    "        source_sequence = self.source_tokens[index]\n",
    "        target_sequence = self.target_tokens[index]\n",
    "\n",
    "        return {\n",
    "            \"input_ids\": source_sequence,\n",
    "            \"labels\": target_sequence,\n",
    "        }\n",
    "\n",
    "# Create datasets\n",
    "train_dataset = TranslationDataset(tokenized_train_en, tokenized_train_fr)\n",
    "val_dataset = TranslationDataset(tokenized_val_en, tokenized_val_fr)\n",
    "test_dataset = TranslationDataset(tokenized_test_en, tokenized_test_fr)"
   ]
  },
  {
   "cell_type": "code",
   "execution_count": 38,
   "metadata": {},
   "outputs": [
    {
     "name": "stdout",
     "output_type": "stream",
     "text": [
      "EncoderDecoder(\n",
      "  (encoder): Encoder(\n",
      "    (dropout_module): Dropout(p=0.0, inplace=False)\n",
      "    (embed_tokens): TextEmbedding(30000, 64)\n",
      "    (embed_positions): PositionalEmbedding(512, 64)\n",
      "    (layers): ModuleList(\n",
      "      (0-7): 8 x EncoderLayer(\n",
      "        (self_attn): MultiheadAttention(\n",
      "          (k_proj): Linear(in_features=64, out_features=64, bias=True)\n",
      "          (v_proj): Linear(in_features=64, out_features=64, bias=True)\n",
      "          (q_proj): Linear(in_features=64, out_features=64, bias=True)\n",
      "          (out_proj): Linear(in_features=64, out_features=64, bias=True)\n",
      "          (inner_attn_ln): LayerNorm((64,), eps=1e-05, elementwise_affine=True)\n",
      "          (dropout_module): Dropout(p=0.0, inplace=False)\n",
      "        )\n",
      "        (self_attn_layer_norm): LayerNorm((64,), eps=1e-05, elementwise_affine=True)\n",
      "        (dropout_module): Dropout(p=0.0, inplace=False)\n",
      "        (ffn): FeedForwardNetwork(\n",
      "          (activation_dropout_module): Dropout(p=0.0, inplace=False)\n",
      "          (dropout_module): Dropout(p=0.0, inplace=False)\n",
      "          (fc1): Linear(in_features=64, out_features=256, bias=True)\n",
      "          (fc2): Linear(in_features=256, out_features=64, bias=True)\n",
      "          (ffn_layernorm): LayerNorm((256,), eps=1e-05, elementwise_affine=True)\n",
      "        )\n",
      "        (final_layer_norm): LayerNorm((64,), eps=1e-05, elementwise_affine=True)\n",
      "      )\n",
      "    )\n",
      "    (layer_norm): LayerNorm((64,), eps=1e-05, elementwise_affine=True)\n",
      "  )\n",
      "  (decoder): Decoder(\n",
      "    (dropout_module): Dropout(p=0.0, inplace=False)\n",
      "    (embed_tokens): TextEmbedding(30000, 64)\n",
      "    (embed_positions): PositionalEmbedding(512, 64)\n",
      "    (output_projection): Linear(in_features=64, out_features=30000, bias=False)\n",
      "    (layers): ModuleList(\n",
      "      (0-7): 8 x DecoderLayer(\n",
      "        (dropout_module): Dropout(p=0.0, inplace=False)\n",
      "        (self_attn): MultiheadAttention(\n",
      "          (k_proj): Linear(in_features=64, out_features=64, bias=True)\n",
      "          (v_proj): Linear(in_features=64, out_features=64, bias=True)\n",
      "          (q_proj): Linear(in_features=64, out_features=64, bias=True)\n",
      "          (out_proj): Linear(in_features=64, out_features=64, bias=True)\n",
      "          (inner_attn_ln): LayerNorm((64,), eps=1e-05, elementwise_affine=True)\n",
      "          (dropout_module): Dropout(p=0.0, inplace=False)\n",
      "        )\n",
      "        (self_attn_layer_norm): LayerNorm((64,), eps=1e-05, elementwise_affine=True)\n",
      "        (encoder_attn): MultiheadAttention(\n",
      "          (k_proj): Linear(in_features=64, out_features=64, bias=True)\n",
      "          (v_proj): Linear(in_features=64, out_features=64, bias=True)\n",
      "          (q_proj): Linear(in_features=64, out_features=64, bias=True)\n",
      "          (out_proj): Linear(in_features=64, out_features=64, bias=True)\n",
      "          (dropout_module): Dropout(p=0.0, inplace=False)\n",
      "        )\n",
      "        (encoder_attn_layer_norm): LayerNorm((64,), eps=1e-05, elementwise_affine=True)\n",
      "        (ffn): FeedForwardNetwork(\n",
      "          (activation_dropout_module): Dropout(p=0.0, inplace=False)\n",
      "          (dropout_module): Dropout(p=0.0, inplace=False)\n",
      "          (fc1): Linear(in_features=64, out_features=256, bias=True)\n",
      "          (fc2): Linear(in_features=256, out_features=64, bias=True)\n",
      "          (ffn_layernorm): LayerNorm((256,), eps=1e-05, elementwise_affine=True)\n",
      "        )\n",
      "        (final_layer_norm): LayerNorm((64,), eps=1e-05, elementwise_affine=True)\n",
      "      )\n",
      "    )\n",
      "    (layer_norm): LayerNorm((64,), eps=1e-05, elementwise_affine=True)\n",
      "  )\n",
      ")\n"
     ]
    }
   ],
   "source": [
    "from torchscale.architecture.config import EncoderDecoderConfig\n",
    "from torchscale.architecture.encoder_decoder import EncoderDecoder\n",
    "from torchscale.component.embedding import PositionalEmbedding, TextEmbedding\n",
    "\n",
    "enc_dec_config = EncoderDecoderConfig(\n",
    "    encoder_embed_dim=64,\n",
    "    encoder_attention_heads=8,\n",
    "    encoder_ffn_embed_dim=256,\n",
    "    encoder_layers=8,\n",
    "    max_source_positions=512,\n",
    "    decoder_embed_dim=64,\n",
    "    decoder_attention_heads=8,\n",
    "    decoder_ffn_embed_dim=256,\n",
    "    decoder_layers=8,\n",
    "    activation_fn=\"gelu\",\n",
    "    max_target_positions=512,\n",
    "    vocab_size=30000\n",
    ")\n",
    "enc_dec = EncoderDecoder(\n",
    "    enc_dec_config,\n",
    "    encoder_embed_tokens=TextEmbedding(30000, enc_dec_config.encoder_embed_dim),\n",
    "    encoder_embed_positions=PositionalEmbedding(enc_dec_config.max_source_positions, enc_dec_config.encoder_embed_dim),\n",
    "    decoder_embed_tokens=TextEmbedding(30000, enc_dec_config.decoder_embed_dim),\n",
    "    decoder_embed_positions=PositionalEmbedding(enc_dec_config.max_target_positions, enc_dec_config.decoder_embed_dim)\n",
    ")\n",
    "\n",
    "# Print encoder decoder arch\n",
    "print(enc_dec)"
   ]
  },
  {
   "cell_type": "code",
   "execution_count": 39,
   "metadata": {},
   "outputs": [],
   "source": [
    "# Define your optimizer and loss function\n",
    "optimizer = torch.optim.AdamW(enc_dec.parameters(), lr=1e-5)\n",
    "criterion = nn.CrossEntropyLoss()"
   ]
  },
  {
   "cell_type": "code",
   "execution_count": 40,
   "metadata": {},
   "outputs": [],
   "source": [
    "batch_size = 4\n",
    "\n",
    "# Create data loaders for training, validation, and testing\n",
    "train_loader = DataLoader(train_dataset, batch_size=batch_size, shuffle=False)\n",
    "val_loader = DataLoader(val_dataset, batch_size=batch_size, shuffle=False)\n",
    "test_loader = DataLoader(test_dataset, batch_size=batch_size, shuffle=False)"
   ]
  },
  {
   "cell_type": "code",
   "execution_count": 41,
   "metadata": {},
   "outputs": [
    {
     "name": "stderr",
     "output_type": "stream",
     "text": [
      "100%|██████████| 2500/2500 [03:03<00:00, 13.62it/s]\n"
     ]
    },
    {
     "name": "stdout",
     "output_type": "stream",
     "text": [
      "Epoch 1, Train Loss: 1.802873052716255\n"
     ]
    },
    {
     "name": "stderr",
     "output_type": "stream",
     "text": [
      "100%|██████████| 50/50 [00:01<00:00, 41.33it/s]\n"
     ]
    },
    {
     "name": "stdout",
     "output_type": "stream",
     "text": [
      "Epoch 1, Validation Loss: 0.9842911726236343\n"
     ]
    },
    {
     "name": "stderr",
     "output_type": "stream",
     "text": [
      "100%|██████████| 2500/2500 [03:13<00:00, 12.94it/s]\n"
     ]
    },
    {
     "name": "stdout",
     "output_type": "stream",
     "text": [
      "Epoch 2, Train Loss: 0.612210629209876\n"
     ]
    },
    {
     "name": "stderr",
     "output_type": "stream",
     "text": [
      "100%|██████████| 50/50 [00:01<00:00, 39.77it/s]\n"
     ]
    },
    {
     "name": "stdout",
     "output_type": "stream",
     "text": [
      "Epoch 2, Validation Loss: 0.5245329788327218\n"
     ]
    },
    {
     "name": "stderr",
     "output_type": "stream",
     "text": [
      "100%|██████████| 2500/2500 [03:18<00:00, 12.59it/s]\n"
     ]
    },
    {
     "name": "stdout",
     "output_type": "stream",
     "text": [
      "Epoch 3, Train Loss: 0.3305562987223268\n"
     ]
    },
    {
     "name": "stderr",
     "output_type": "stream",
     "text": [
      "100%|██████████| 50/50 [00:01<00:00, 42.32it/s]\n"
     ]
    },
    {
     "name": "stdout",
     "output_type": "stream",
     "text": [
      "Epoch 3, Validation Loss: 0.34046810582280157\n"
     ]
    },
    {
     "name": "stderr",
     "output_type": "stream",
     "text": [
      "100%|██████████| 2500/2500 [03:16<00:00, 12.73it/s]\n"
     ]
    },
    {
     "name": "stdout",
     "output_type": "stream",
     "text": [
      "Epoch 4, Train Loss: 0.2051606276549399\n"
     ]
    },
    {
     "name": "stderr",
     "output_type": "stream",
     "text": [
      "100%|██████████| 50/50 [00:01<00:00, 39.00it/s]\n"
     ]
    },
    {
     "name": "stdout",
     "output_type": "stream",
     "text": [
      "Epoch 4, Validation Loss: 0.23990924254059792\n"
     ]
    },
    {
     "name": "stderr",
     "output_type": "stream",
     "text": [
      "100%|██████████| 2500/2500 [03:14<00:00, 12.89it/s]\n"
     ]
    },
    {
     "name": "stdout",
     "output_type": "stream",
     "text": [
      "Epoch 5, Train Loss: 0.13754083185326307\n"
     ]
    },
    {
     "name": "stderr",
     "output_type": "stream",
     "text": [
      "100%|██████████| 50/50 [00:01<00:00, 39.63it/s]\n"
     ]
    },
    {
     "name": "stdout",
     "output_type": "stream",
     "text": [
      "Epoch 5, Validation Loss: 0.18068625152111054\n"
     ]
    },
    {
     "name": "stderr",
     "output_type": "stream",
     "text": [
      "100%|██████████| 2500/2500 [03:13<00:00, 12.91it/s]\n"
     ]
    },
    {
     "name": "stdout",
     "output_type": "stream",
     "text": [
      "Epoch 6, Train Loss: 0.09777195239346474\n"
     ]
    },
    {
     "name": "stderr",
     "output_type": "stream",
     "text": [
      "100%|██████████| 50/50 [00:01<00:00, 36.16it/s]\n"
     ]
    },
    {
     "name": "stdout",
     "output_type": "stream",
     "text": [
      "Epoch 6, Validation Loss: 0.14491862408816814\n"
     ]
    },
    {
     "name": "stderr",
     "output_type": "stream",
     "text": [
      "100%|██████████| 2500/2500 [03:12<00:00, 13.00it/s]\n"
     ]
    },
    {
     "name": "stdout",
     "output_type": "stream",
     "text": [
      "Epoch 7, Train Loss: 0.07184112067965324\n"
     ]
    },
    {
     "name": "stderr",
     "output_type": "stream",
     "text": [
      "100%|██████████| 50/50 [00:01<00:00, 39.90it/s]\n"
     ]
    },
    {
     "name": "stdout",
     "output_type": "stream",
     "text": [
      "Epoch 7, Validation Loss: 0.12088342867791653\n"
     ]
    },
    {
     "name": "stderr",
     "output_type": "stream",
     "text": [
      "100%|██████████| 2500/2500 [03:12<00:00, 12.96it/s]\n"
     ]
    },
    {
     "name": "stdout",
     "output_type": "stream",
     "text": [
      "Epoch 8, Train Loss: 0.05421644692029804\n"
     ]
    },
    {
     "name": "stderr",
     "output_type": "stream",
     "text": [
      "100%|██████████| 50/50 [00:01<00:00, 39.49it/s]\n"
     ]
    },
    {
     "name": "stdout",
     "output_type": "stream",
     "text": [
      "Epoch 8, Validation Loss: 0.10346214251592756\n"
     ]
    },
    {
     "name": "stderr",
     "output_type": "stream",
     "text": [
      "100%|██████████| 2500/2500 [03:10<00:00, 13.09it/s]\n"
     ]
    },
    {
     "name": "stdout",
     "output_type": "stream",
     "text": [
      "Epoch 9, Train Loss: 0.04173056157808751\n"
     ]
    },
    {
     "name": "stderr",
     "output_type": "stream",
     "text": [
      "100%|██████████| 50/50 [00:01<00:00, 39.94it/s]\n"
     ]
    },
    {
     "name": "stdout",
     "output_type": "stream",
     "text": [
      "Epoch 9, Validation Loss: 0.09049399044364691\n"
     ]
    },
    {
     "name": "stderr",
     "output_type": "stream",
     "text": [
      "100%|██████████| 2500/2500 [03:18<00:00, 12.58it/s]\n"
     ]
    },
    {
     "name": "stdout",
     "output_type": "stream",
     "text": [
      "Epoch 10, Train Loss: 0.03270374424225884\n"
     ]
    },
    {
     "name": "stderr",
     "output_type": "stream",
     "text": [
      "100%|██████████| 50/50 [00:01<00:00, 39.09it/s]"
     ]
    },
    {
     "name": "stdout",
     "output_type": "stream",
     "text": [
      "Epoch 10, Validation Loss: 0.08347753058187664\n"
     ]
    },
    {
     "name": "stderr",
     "output_type": "stream",
     "text": [
      "\n"
     ]
    }
   ],
   "source": [
    "num_epochs = 10\n",
    "\n",
    "train_losses = []\n",
    "val_losses = []\n",
    "\n",
    "for epoch in range(num_epochs):\n",
    "    enc_dec.train()\n",
    "\n",
    "    total_loss = 0\n",
    "    correct_predictions = 0\n",
    "    total_predictions = 0\n",
    "\n",
    "    for batch in tqdm(train_loader):\n",
    "        optimizer.zero_grad()\n",
    "\n",
    "        src_tokens = batch[\"input_ids\"]\n",
    "        prev_output_tokens = batch[\"labels\"]\n",
    "\n",
    "        enc_dec_output1, enc_dec_output2 = enc_dec(src_tokens, prev_output_tokens)\n",
    "\n",
    "        target_sequence = batch[\"labels\"].view(-1)\n",
    "\n",
    "        loss = criterion(enc_dec_output1.view(-1, enc_dec_config.vocab_size), target_sequence)\n",
    "\n",
    "        loss.backward()\n",
    "        optimizer.step()\n",
    "\n",
    "        total_loss += loss.item()\n",
    "\n",
    "    average_loss = total_loss / len(train_loader)\n",
    "    train_losses.append(average_loss)\n",
    "\n",
    "    print(f\"Epoch {epoch + 1}, Train Loss: {average_loss}\")\n",
    "\n",
    "    enc_dec.eval()\n",
    "    with torch.no_grad():\n",
    "        total_val_loss = 0\n",
    "\n",
    "        for val_batch in tqdm(val_loader):\n",
    "            val_src_tokens = val_batch[\"input_ids\"]\n",
    "            val_prev_output_tokens = val_batch[\"labels\"]\n",
    "\n",
    "            val_enc_dec_output1, val_enc_dec_output2 = enc_dec(val_src_tokens, val_prev_output_tokens)\n",
    "\n",
    "            val_loss = criterion(val_enc_dec_output1.view(-1, enc_dec_config.vocab_size), val_batch[\"labels\"].view(-1))\n",
    "            total_val_loss += val_loss.item()\n",
    "\n",
    "        average_val_loss = total_val_loss / len(val_loader)\n",
    "        val_losses.append(average_val_loss)\n",
    "\n",
    "        print(f\"Epoch {epoch + 1}, Validation Loss: {average_val_loss}\")"
   ]
  },
  {
   "cell_type": "code",
   "execution_count": 42,
   "metadata": {},
   "outputs": [
    {
     "name": "stderr",
     "output_type": "stream",
     "text": [
      "100%|██████████| 250/250 [00:06<00:00, 40.75it/s]"
     ]
    },
    {
     "name": "stdout",
     "output_type": "stream",
     "text": [
      "Final Test Loss: 0.0627327798102051\n"
     ]
    },
    {
     "name": "stderr",
     "output_type": "stream",
     "text": [
      "\n"
     ]
    }
   ],
   "source": [
    "enc_dec.eval()\n",
    "with torch.no_grad():\n",
    "    total_test_loss = 0\n",
    "\n",
    "    for test_batch in tqdm(test_loader):\n",
    "        test_src_tokens = test_batch[\"input_ids\"]\n",
    "        test_prev_output_tokens = test_batch[\"labels\"]\n",
    "\n",
    "        test_enc_dec_output1, test_enc_dec_output2 = enc_dec(test_src_tokens, test_prev_output_tokens)\n",
    "\n",
    "        test_loss = criterion(test_enc_dec_output1.view(-1, enc_dec_config.vocab_size), test_batch[\"labels\"].view(-1))\n",
    "        total_test_loss += test_loss.item()\n",
    "\n",
    "    average_test_loss = total_test_loss / len(test_loader)\n",
    "\n",
    "    print(f\"Final Test Loss: {average_test_loss}\")"
   ]
  },
  {
   "cell_type": "code",
   "execution_count": 43,
   "metadata": {},
   "outputs": [
    {
     "name": "stderr",
     "output_type": "stream",
     "text": [
      "100%|██████████| 2500/2500 [01:28<00:00, 28.25it/s]\n"
     ]
    },
    {
     "name": "stdout",
     "output_type": "stream",
     "text": [
      "BLEU score: 0.34018057584762573\n"
     ]
    }
   ],
   "source": [
    "from torchtext.data.metrics import bleu_score\n",
    "\n",
    "enc_dec.eval()\n",
    "\n",
    "candidate_corpus = []\n",
    "reference_corpus = []\n",
    "\n",
    "with torch.no_grad():\n",
    "    for batch in tqdm(train_loader):\n",
    "        src_tokens = batch['input_ids']\n",
    "        prev_output_tokens = batch['labels']\n",
    "\n",
    "        op, _ = enc_dec(src_tokens, prev_output_tokens)\n",
    "\n",
    "        predictions = torch.argmax(op, dim=-1)\n",
    "\n",
    "        # Convert token IDs to strings\n",
    "        candidates = [tokenizer.decode(pred, skip_special_tokens=True) for pred in predictions.cpu().numpy().tolist()]\n",
    "        candidate_corpus.extend(candidates)\n",
    "\n",
    "        references = [tokenizer.decode(seq, skip_special_tokens=True).split() for seq in batch['labels'].cpu().numpy().tolist()]\n",
    "        reference_corpus.extend(references)\n",
    "\n",
    "candidate_corpus = [str(candidate) for candidate in candidate_corpus]\n",
    "\n",
    "bleu = bleu_score(candidate_corpus, reference_corpus)\n",
    "print(f\"BLEU score: {bleu}\")"
   ]
  },
  {
   "cell_type": "code",
   "execution_count": 44,
   "metadata": {},
   "outputs": [
    {
     "data": {
      "image/png": "[encoded data removed]",
      "text/plain": [
       "<Figure size 640x480 with 1 Axes>"
      ]
     },
     "metadata": {},
     "output_type": "display_data"
    }
   ],
   "source": [
    "import matplotlib.pyplot as plt \n",
    "%matplotlib inline \n",
    "\n",
    "epochs = range(1, 11)\n",
    "\n",
    "plt.plot(epochs, train_losses, label='Training Loss')\n",
    "plt.plot(epochs, val_losses, label='Validation Loss')\n",
    "\n",
    "plt.title('Training and Validation Loss')\n",
    "plt.xlabel('Epochs')\n",
    "plt.ylabel('Loss')\n",
    "plt.legend()\n",
    "\n",
    "plt.show()"
   ]
  },
  {
   "cell_type": "code",
   "execution_count": null,
   "metadata": {},
   "outputs": [],
   "source": []
  }
 ],
 "metadata": {
  "kernelspec": {
   "display_name": "Python 3",
   "language": "python",
   "name": "python3"
  },
  "language_info": {
   "codemirror_mode": {
    "name": "ipython",
    "version": 3
   },
   "file_extension": ".py",
   "mimetype": "text/x-python",
   "name": "python",
   "nbconvert_exporter": "python",
   "pygments_lexer": "ipython3",
   "version": "3.9.13"
  }
 },
 "nbformat": 4,
 "nbformat_minor": 2
}
